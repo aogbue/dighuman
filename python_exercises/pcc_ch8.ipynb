{
 "cells": [
  {
   "cell_type": "markdown",
   "id": "f2275e1b",
   "metadata": {},
   "source": [
    "# 8-1"
   ]
  },
  {
   "cell_type": "code",
   "execution_count": 3,
   "id": "bc6c3bf4",
   "metadata": {},
   "outputs": [],
   "source": [
    "def display_message():\n",
    "    \"\"\"Print out a message about work\"\"\"\n",
    "    print(\"In this chapter, we're learnign about functions and how to use them!\")"
   ]
  },
  {
   "cell_type": "code",
   "execution_count": 4,
   "id": "d72ef1d5",
   "metadata": {},
   "outputs": [
    {
     "name": "stdout",
     "output_type": "stream",
     "text": [
      "In this chapter, we're learnign about functions and how to use them!\n"
     ]
    }
   ],
   "source": [
    "display_message()"
   ]
  },
  {
   "cell_type": "markdown",
   "id": "3f52eb08",
   "metadata": {},
   "source": [
    "# 8-2"
   ]
  },
  {
   "cell_type": "code",
   "execution_count": 7,
   "id": "d08d6c10",
   "metadata": {},
   "outputs": [],
   "source": [
    "def favourite_book(title):\n",
    "    \"\"\"Prints out a title about a good book\"\"\"\n",
    "    print(\" One of my favorite books is \" + title.title() + \" !\")"
   ]
  },
  {
   "cell_type": "code",
   "execution_count": 8,
   "id": "8ab92ad8",
   "metadata": {},
   "outputs": [
    {
     "name": "stdout",
     "output_type": "stream",
     "text": [
      " One of my favorite books is Maame !\n"
     ]
    }
   ],
   "source": [
    "favourite_book('Maame')"
   ]
  },
  {
   "cell_type": "markdown",
   "id": "ce4fac44",
   "metadata": {},
   "source": [
    "#  8-3"
   ]
  },
  {
   "cell_type": "code",
   "execution_count": 11,
   "id": "c496130c",
   "metadata": {},
   "outputs": [],
   "source": [
    "def make_shirt(size):\n",
    "    \"\"\"Print out shirt information\"\"\"\n",
    "    print(\"That shirt size is \" + size.casefold() + \".\")"
   ]
  },
  {
   "cell_type": "code",
   "execution_count": 12,
   "id": "f4fd6f59",
   "metadata": {},
   "outputs": [
    {
     "name": "stdout",
     "output_type": "stream",
     "text": [
      "That shirt size is medium.\n"
     ]
    }
   ],
   "source": [
    "make_shirt('medium')"
   ]
  },
  {
   "cell_type": "code",
   "execution_count": 13,
   "id": "59c6a3d6",
   "metadata": {},
   "outputs": [
    {
     "name": "stdout",
     "output_type": "stream",
     "text": [
      "That shirt size is medium.\n"
     ]
    }
   ],
   "source": [
    "make_shirt(size = 'medium')"
   ]
  },
  {
   "cell_type": "markdown",
   "id": "b603fa8a",
   "metadata": {},
   "source": [
    "# 8-5"
   ]
  },
  {
   "cell_type": "code",
   "execution_count": 14,
   "id": "cf20f260",
   "metadata": {},
   "outputs": [],
   "source": [
    "def describe_city(city, country = 'Denmark'):\n",
    "    \"Describe a city\"\n",
    "    print(city.title() + \" is in \" + country.title() + \".\")"
   ]
  },
  {
   "cell_type": "code",
   "execution_count": 16,
   "id": "e4bea352",
   "metadata": {},
   "outputs": [
    {
     "name": "stdout",
     "output_type": "stream",
     "text": [
      "Casablanca is in Morocco.\n",
      "Copenhagen is in Denmark.\n",
      "Limerick is in Ireland.\n"
     ]
    }
   ],
   "source": [
    "describe_city('Casablanca', 'Morocco')\n",
    "describe_city('Copenhagen', 'Denmark')\n",
    "describe_city('Limerick', 'Ireland')"
   ]
  },
  {
   "cell_type": "markdown",
   "id": "014c478a",
   "metadata": {},
   "source": [
    "# 8-6"
   ]
  },
  {
   "cell_type": "code",
   "execution_count": 18,
   "id": "dd94eb15",
   "metadata": {},
   "outputs": [
    {
     "name": "stdout",
     "output_type": "stream",
     "text": [
      "Salvador, Brazil\n"
     ]
    }
   ],
   "source": [
    "def city_country(city, country):\n",
    "    \"\"\" Return a city/country combination formatted \"\"\"\"\"\n",
    "    formatted = city + \", \" + country\n",
    "    return formatted.title()\n",
    "\n",
    "combo = city_country('salvador','brazil')\n",
    "print(combo)"
   ]
  },
  {
   "cell_type": "code",
   "execution_count": 20,
   "id": "3d5de16f",
   "metadata": {},
   "outputs": [
    {
     "name": "stdout",
     "output_type": "stream",
     "text": [
      "Sydney, Australia\n",
      "Montreal, Canada\n"
     ]
    }
   ],
   "source": [
    "second = city_country('sydney','australia')\n",
    "third = city_country('montreal', 'canada')\n",
    "print(second)\n",
    "print(third)"
   ]
  },
  {
   "cell_type": "markdown",
   "id": "6e0d9590",
   "metadata": {},
   "source": [
    "# 8-7"
   ]
  },
  {
   "cell_type": "code",
   "execution_count": 1,
   "id": "17038806",
   "metadata": {},
   "outputs": [],
   "source": [
    "def make_album(name, title, tracks = \"\"):\n",
    "    \"\"\"Return album information\"\"\"\n",
    "    album = {'artist name': name, 'album title': title}\n",
    "    if tracks:\n",
    "        album['tracks'] = tracks\n",
    "    return album"
   ]
  },
  {
   "cell_type": "code",
   "execution_count": 2,
   "id": "f67ef5b4",
   "metadata": {},
   "outputs": [
    {
     "name": "stdout",
     "output_type": "stream",
     "text": [
      "{'artist name': 'ariana grande', 'album title': 'yours truly'}\n",
      "{'artist name': 'janelle monae', 'album title': 'age of pleasure'}\n",
      "{'artist name': 'amaarae', 'album title': 'fountain baby', 'tracks': '14'}\n"
     ]
    }
   ],
   "source": [
    "a1 = make_album('ariana grande','yours truly')\n",
    "a2 = make_album('janelle monae', 'age of pleasure')\n",
    "a3 = make_album('amaarae','fountain baby','14')\n",
    "\n",
    "print(a1)\n",
    "print(a2)\n",
    "print(a3)"
   ]
  },
  {
   "cell_type": "code",
   "execution_count": null,
   "id": "6fbb46df",
   "metadata": {},
   "outputs": [],
   "source": []
  }
 ],
 "metadata": {
  "kernelspec": {
   "display_name": "Python 3 (ipykernel)",
   "language": "python",
   "name": "python3"
  },
  "language_info": {
   "codemirror_mode": {
    "name": "ipython",
    "version": 3
   },
   "file_extension": ".py",
   "mimetype": "text/x-python",
   "name": "python",
   "nbconvert_exporter": "python",
   "pygments_lexer": "ipython3",
   "version": "3.11.4"
  }
 },
 "nbformat": 4,
 "nbformat_minor": 5
}
