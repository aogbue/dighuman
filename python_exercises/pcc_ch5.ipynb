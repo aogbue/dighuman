{
 "cells": [
  {
   "cell_type": "markdown",
   "id": "77ea161d",
   "metadata": {},
   "source": [
    "## 5-1"
   ]
  },
  {
   "cell_type": "code",
   "execution_count": 2,
   "id": "2bf9a667",
   "metadata": {},
   "outputs": [],
   "source": [
    "season = \"fall\""
   ]
  },
  {
   "cell_type": "code",
   "execution_count": 5,
   "id": "78f0ec15",
   "metadata": {},
   "outputs": [
    {
     "name": "stdout",
     "output_type": "stream",
     "text": [
      "Is the best season == 'fall'? I predict True.\n",
      "True\n"
     ]
    }
   ],
   "source": [
    "print(\"Is the best season == 'fall'? I predict True.\")\n",
    "print(season == 'fall')"
   ]
  },
  {
   "cell_type": "code",
   "execution_count": 7,
   "id": "ab8352c4",
   "metadata": {},
   "outputs": [
    {
     "name": "stdout",
     "output_type": "stream",
     "text": [
      "Is the best season == 'winter'? Definitely not.\n",
      "False\n"
     ]
    }
   ],
   "source": [
    "print(\"Is the best season == 'winter'? Definitely not.\")\n",
    "print(season == \"winter\")"
   ]
  },
  {
   "cell_type": "code",
   "execution_count": 8,
   "id": "f092ad63",
   "metadata": {},
   "outputs": [
    {
     "name": "stdout",
     "output_type": "stream",
     "text": [
      "Is the best season == 'spring'? I hope not, I hate allergies.\n",
      "False\n"
     ]
    }
   ],
   "source": [
    "print(\"Is the best season == 'spring'? I hope not, I hate allergies.\")\n",
    "print(season == \"spring\")"
   ]
  },
  {
   "cell_type": "code",
   "execution_count": 9,
   "id": "6deec34d",
   "metadata": {},
   "outputs": [
    {
     "name": "stdout",
     "output_type": "stream",
     "text": [
      "Is the best season == 'summer'? I don't think so. It's too hot!\n",
      "False\n"
     ]
    }
   ],
   "source": [
    "print(\"Is the best season == 'summer'? I don't think so. It's too hot!\")\n",
    "print(season == \"summer\")"
   ]
  },
  {
   "cell_type": "code",
   "execution_count": 23,
   "id": "9e913fc3",
   "metadata": {},
   "outputs": [
    {
     "name": "stdout",
     "output_type": "stream",
     "text": [
      "Is dessert == 'cheesecake'? I predict a yes :).\n",
      "True\n"
     ]
    }
   ],
   "source": [
    "dessert = \"cheesecake\"\n",
    "print(\"Is dessert == 'cheesecake'? I predict a yes :).\")\n",
    "print(dessert == 'cheesecake')"
   ]
  },
  {
   "cell_type": "code",
   "execution_count": 18,
   "id": "7ebbe532",
   "metadata": {},
   "outputs": [
    {
     "name": "stdout",
     "output_type": "stream",
     "text": [
      "Is dessert == 'cupcake'? No thank you.\n",
      "False\n"
     ]
    }
   ],
   "source": [
    "print(\"Is dessert == 'cupcake'? No thank you.\")\n",
    "print(dessert == 'cupcake')"
   ]
  },
  {
   "cell_type": "code",
   "execution_count": 24,
   "id": "b71408be",
   "metadata": {},
   "outputs": [
    {
     "name": "stdout",
     "output_type": "stream",
     "text": [
      "Is animal == 'snake'? I predict yes.\n",
      "True\n"
     ]
    }
   ],
   "source": [
    "animal = \"snake\"\n",
    "print(\"Is animal == 'snake'? I predict yes.\")\n",
    "print(animal == 'snake')"
   ]
  },
  {
   "cell_type": "code",
   "execution_count": 22,
   "id": "9927c538",
   "metadata": {},
   "outputs": [
    {
     "name": "stdout",
     "output_type": "stream",
     "text": [
      "Is movie == 'bottoms'? yes! best movie.\n",
      "True\n"
     ]
    }
   ],
   "source": [
    "movie = \"bottoms\"\n",
    "print(\"Is movie == 'bottoms'? yes! best movie.\")\n",
    "print(movie == 'bottoms')"
   ]
  },
  {
   "cell_type": "code",
   "execution_count": 27,
   "id": "7b65c477",
   "metadata": {},
   "outputs": [
    {
     "name": "stdout",
     "output_type": "stream",
     "text": [
      "Is movie == 'jumanji, 2017'? i predict no, great contender\n",
      "False\n"
     ]
    }
   ],
   "source": [
    "movie = \"bottoms\"\n",
    "print(\"Is movie == 'jumanji, 2017'? i predict no, great contender\")\n",
    "print(movie == 'jumanji,2017')"
   ]
  },
  {
   "cell_type": "code",
   "execution_count": 25,
   "id": "48abb1fa",
   "metadata": {},
   "outputs": [
    {
     "name": "stdout",
     "output_type": "stream",
     "text": [
      "Is snack == 'traders joes  pb cups'? definitely predicting yes\n",
      "True\n"
     ]
    }
   ],
   "source": [
    "snack = \"traders joes pb cups\"\n",
    "print(\"Is snack == 'traders joes  pb cups'? definitely predicting yes\")\n",
    "print(snack == 'traders joes pb cups')"
   ]
  },
  {
   "cell_type": "markdown",
   "id": "7a3bbcc9",
   "metadata": {},
   "source": [
    "## 5.2"
   ]
  },
  {
   "cell_type": "code",
   "execution_count": 28,
   "id": "dd6a34b3",
   "metadata": {},
   "outputs": [
    {
     "name": "stdout",
     "output_type": "stream",
     "text": [
      "Is snack == 'truffle chips'? i predict no but also great.\n",
      "False\n"
     ]
    }
   ],
   "source": [
    "snack = \"traders joes pb cups\"\n",
    "print(\"Is snack == 'truffle chips'? i predict no but also great.\")\n",
    "print(snack == 'truffle chips')"
   ]
  },
  {
   "cell_type": "code",
   "execution_count": 31,
   "id": "6a4c8b60",
   "metadata": {},
   "outputs": [
    {
     "name": "stdout",
     "output_type": "stream",
     "text": [
      "Is artist == 'Janelle Monae'? i predict yes ;).\n",
      "True\n"
     ]
    }
   ],
   "source": [
    "artist = \"Janelle Monae\"\n",
    "print(\"Is artist == 'Janelle Monae'? i predict yes ;).\")\n",
    "print(artist == 'Janelle Monae')"
   ]
  },
  {
   "cell_type": "code",
   "execution_count": 32,
   "id": "9672970d",
   "metadata": {},
   "outputs": [
    {
     "name": "stdout",
     "output_type": "stream",
     "text": [
      "Is artist == Artist? Almost not quite\n",
      "False\n"
     ]
    }
   ],
   "source": [
    "Artist = artist.lower()\n",
    "print(\"Is artist == Artist? Almost not quite\")\n",
    "print(artist == Artist)"
   ]
  },
  {
   "cell_type": "code",
   "execution_count": 37,
   "id": "f68de36c",
   "metadata": {},
   "outputs": [
    {
     "name": "stdout",
     "output_type": "stream",
     "text": [
      "Is Artist =='janelle monae'? by golly yes\n",
      "True\n"
     ]
    }
   ],
   "source": [
    "Artist = artist.lower()\n",
    "print(\"Is Artist =='janelle monae'? by golly yes\")\n",
    "print(Artist == 'janelle monae')"
   ]
  },
  {
   "cell_type": "code",
   "execution_count": 38,
   "id": "7061f032",
   "metadata": {},
   "outputs": [
    {
     "data": {
      "text/plain": [
       "False"
      ]
     },
     "execution_count": 38,
     "metadata": {},
     "output_type": "execute_result"
    }
   ],
   "source": [
    "age = 22\n",
    "age < 13"
   ]
  },
  {
   "cell_type": "code",
   "execution_count": 39,
   "id": "d07a8a9d",
   "metadata": {},
   "outputs": [
    {
     "data": {
      "text/plain": [
       "True"
      ]
     },
     "execution_count": 39,
     "metadata": {},
     "output_type": "execute_result"
    }
   ],
   "source": [
    "age != 23"
   ]
  },
  {
   "cell_type": "code",
   "execution_count": 2,
   "id": "b7adc794",
   "metadata": {},
   "outputs": [
    {
     "data": {
      "text/plain": [
       "False"
      ]
     },
     "execution_count": 2,
     "metadata": {},
     "output_type": "execute_result"
    }
   ],
   "source": [
    "age = 14\n",
    "age > 12 and age != 14"
   ]
  },
  {
   "cell_type": "code",
   "execution_count": 3,
   "id": "67bd1150",
   "metadata": {},
   "outputs": [
    {
     "data": {
      "text/plain": [
       "True"
      ]
     },
     "execution_count": 3,
     "metadata": {},
     "output_type": "execute_result"
    }
   ],
   "source": [
    "age = 35\n",
    "age > 30 or age != 23"
   ]
  },
  {
   "cell_type": "code",
   "execution_count": 5,
   "id": "e68bd641",
   "metadata": {},
   "outputs": [
    {
     "data": {
      "text/plain": [
       "True"
      ]
     },
     "execution_count": 5,
     "metadata": {},
     "output_type": "execute_result"
    }
   ],
   "source": [
    "colors = [\"teal\", \"mauve\",\"raspberry\"]\n",
    "'teal'in colors"
   ]
  },
  {
   "cell_type": "code",
   "execution_count": 6,
   "id": "033d190d",
   "metadata": {},
   "outputs": [
    {
     "data": {
      "text/plain": [
       "False"
      ]
     },
     "execution_count": 6,
     "metadata": {},
     "output_type": "execute_result"
    }
   ],
   "source": [
    "colors = [\"teal\", \"mauve\",\"raspberry\"]\n",
    "'emerald'in colors"
   ]
  },
  {
   "cell_type": "code",
   "execution_count": 9,
   "id": "d53de1ed",
   "metadata": {},
   "outputs": [
    {
     "name": "stdout",
     "output_type": "stream",
     "text": [
      "Scarlet was forgotten!\n"
     ]
    }
   ],
   "source": [
    "colors = [\"teal\", \"mauve\",\"raspberry\"]\n",
    "favorite = 'scarlet'\n",
    "\n",
    "if favorite not in colors:\n",
    "    print(favorite.title() + \" was forgotten!\")"
   ]
  },
  {
   "cell_type": "code",
   "execution_count": 10,
   "id": "04928da6",
   "metadata": {},
   "outputs": [
    {
     "name": "stdout",
     "output_type": "stream",
     "text": [
      "Amber is here, got em all!\n"
     ]
    }
   ],
   "source": [
    "colors = [\"teal\", \"amber\",\"raspberry\"]\n",
    "favorite = 'amber'\n",
    "\n",
    "if favorite not in colors:\n",
    "    print(favorite.title() + \" was forgotten!\")\n",
    "else:\n",
    "    print(favorite.title() + \" is here, got em all!\")"
   ]
  },
  {
   "cell_type": "markdown",
   "id": "2d3e093f",
   "metadata": {},
   "source": [
    "## 5.6"
   ]
  },
  {
   "cell_type": "code",
   "execution_count": 15,
   "id": "02c207cd",
   "metadata": {},
   "outputs": [
    {
     "name": "stdout",
     "output_type": "stream",
     "text": [
      "you're an adult.\n"
     ]
    }
   ],
   "source": [
    "age = 28\n",
    "if age < 2:\n",
    "    print(\"you're a baby, baby!\")\n",
    "elif age >= 2 and age < 4:\n",
    "    print(\"you're a toddler!\")\n",
    "elif age >= 4 and age < 13:\n",
    "    print(\"you're a child <3\")\n",
    "elif age >= 13 and age < 20:\n",
    "    print(\"you're a teenager (good luck)\")\n",
    "elif age >= 20 and age < 65:\n",
    "    print(\"you're an adult.\")\n",
    "else:\n",
    "    print(\"you're an elder. congrats.\")"
   ]
  },
  {
   "cell_type": "markdown",
   "id": "3011fc45",
   "metadata": {},
   "source": [
    "## 5.7"
   ]
  },
  {
   "cell_type": "code",
   "execution_count": 16,
   "id": "a0eab9da",
   "metadata": {},
   "outputs": [],
   "source": [
    "favorite_fruits = [\"mango\",\"watermelon\",\"lychee\"]"
   ]
  },
  {
   "cell_type": "code",
   "execution_count": 18,
   "id": "f2abda80",
   "metadata": {},
   "outputs": [
    {
     "name": "stdout",
     "output_type": "stream",
     "text": [
      "what did Mandarin do to you!\n"
     ]
    }
   ],
   "source": [
    "fruit = 'mandarin'\n",
    "if fruit not in favorite_fruits:\n",
    "    print(\"what did \" + fruit.title() + \" do to you!\")"
   ]
  },
  {
   "cell_type": "code",
   "execution_count": 20,
   "id": "85054e22",
   "metadata": {},
   "outputs": [
    {
     "name": "stdout",
     "output_type": "stream",
     "text": [
      "no Strawberry! you're missing out\n"
     ]
    }
   ],
   "source": [
    "fruit = 'strawberry'\n",
    "if fruit not in favorite_fruits:\n",
    "    print(\"no \" + fruit.title() + \"! you're missing out\")"
   ]
  },
  {
   "cell_type": "code",
   "execution_count": 22,
   "id": "ada907ef",
   "metadata": {},
   "outputs": [
    {
     "name": "stdout",
     "output_type": "stream",
     "text": [
      "you must really like grapes!\n"
     ]
    }
   ],
   "source": [
    "favorite_fruits = [\"mango\",\"grapes\",\"lychee\"]\n",
    "fruit = 'grapes'\n",
    "if fruit in favorite_fruits:\n",
    "    print(\"you must really like grapes!\")"
   ]
  },
  {
   "cell_type": "code",
   "execution_count": 24,
   "id": "9e54a865",
   "metadata": {},
   "outputs": [
    {
     "name": "stdout",
     "output_type": "stream",
     "text": [
      "you must really like kiwis!\n"
     ]
    }
   ],
   "source": [
    "favorite_fruits = [\"kiwi\",\"grapes\",\"lychee\"]\n",
    "fruit = 'kiwi'\n",
    "if fruit in favorite_fruits:\n",
    "    print(\"you must really like kiwis!\")"
   ]
  },
  {
   "cell_type": "code",
   "execution_count": 27,
   "id": "541f8dea",
   "metadata": {},
   "outputs": [
    {
     "name": "stdout",
     "output_type": "stream",
     "text": [
      " and thats so fair \n"
     ]
    }
   ],
   "source": [
    "favorite_fruits = [\"kiwi\",\"grapes\",\"lychee\"]\n",
    "fruit = 'blueberry'\n",
    "if fruit not in favorite_fruits:\n",
    "    print(\" and thats so fair \")"
   ]
  },
  {
   "cell_type": "markdown",
   "id": "932f03d6",
   "metadata": {},
   "source": [
    "## 5.8"
   ]
  },
  {
   "cell_type": "code",
   "execution_count": 34,
   "id": "1ae3e1f0",
   "metadata": {},
   "outputs": [
    {
     "name": "stdout",
     "output_type": "stream",
     "text": [
      "Hello Admin, would you like to see a status report?\n",
      "Hello Mae, welcome back\n",
      "Hello Molly, welcome back\n",
      "Hello Susie Ann, welcome back\n",
      "Hello Mykaela, welcome back\n"
     ]
    }
   ],
   "source": [
    "users = [\"admin\", \"mae\", \"molly\", \"susie ann\", \"mykaela\"]\n",
    "for user in users:\n",
    "    if user == 'admin':\n",
    "        print(\"Hello Admin, would you like to see a status report?\")\n",
    "    else:\n",
    "        print(\"Hello \" + user.title() + \", welcome back\")"
   ]
  },
  {
   "cell_type": "markdown",
   "id": "26b61598",
   "metadata": {},
   "source": [
    "## 5.9"
   ]
  },
  {
   "cell_type": "code",
   "execution_count": 44,
   "id": "3ddae73a",
   "metadata": {},
   "outputs": [
    {
     "name": "stdout",
     "output_type": "stream",
     "text": [
      "We need to find some users!\n"
     ]
    }
   ],
   "source": [
    "users = []\n",
    "if users:\n",
    "    for user in users:\n",
    "        if user == 'admin':\n",
    "            print(\"Hello Admin, would you like to see a status report?\")\n",
    "        else:\n",
    "            print(\"Hello \" + user.title() + \", welcome back\")\n",
    "else:\n",
    "        print(\"We need to find some users!\")"
   ]
  },
  {
   "cell_type": "markdown",
   "id": "e55ba81a",
   "metadata": {},
   "source": [
    "## 5.10"
   ]
  },
  {
   "cell_type": "code",
   "execution_count": 52,
   "id": "b6af0c9d",
   "metadata": {},
   "outputs": [],
   "source": [
    "current_users = [\"bobbi\", \"billy\", \"ricky\", \"rockette\", \"stan\"]\n",
    "new_users = [\"zenon\", \"darya\", \"darnell\", \"millie\", \"monet\"]"
   ]
  },
  {
   "cell_type": "code",
   "execution_count": 53,
   "id": "c54c1bee",
   "metadata": {},
   "outputs": [
    {
     "name": "stdout",
     "output_type": "stream",
     "text": [
      "yay! that name is available\n",
      "yay! that name is available\n",
      "yay! that name is available\n",
      "yay! that name is available\n",
      "yay! that name is available\n"
     ]
    }
   ],
   "source": [
    "for user in new_users:\n",
    "        if user in current_users:\n",
    "            print(\"Sorry :( you'll need to pick a new name\")\n",
    "        else:\n",
    "            print(\"yay! that name is available\")"
   ]
  },
  {
   "cell_type": "code",
   "execution_count": 54,
   "id": "c3db0d25",
   "metadata": {},
   "outputs": [
    {
     "name": "stdout",
     "output_type": "stream",
     "text": [
      "yay! that name is available\n",
      "Sorry :( you'll need to pick a new name\n",
      "yay! that name is available\n",
      "yay! that name is available\n",
      "yay! that name is available\n"
     ]
    }
   ],
   "source": [
    "new_users = [\"zenon\", \"BOBBI\", \"darnell\", \"millie\", \"monet\"]\n",
    "for user in new_users:\n",
    "        if user in current_users or user == user.title() or user == user.upper():\n",
    "            print(\"Sorry :( you'll need to pick a new name\")\n",
    "        else:\n",
    "            print(\"yay! that name is available\")"
   ]
  },
  {
   "cell_type": "code",
   "execution_count": null,
   "id": "f98403cb",
   "metadata": {},
   "outputs": [],
   "source": []
  }
 ],
 "metadata": {
  "kernelspec": {
   "display_name": "Python 3 (ipykernel)",
   "language": "python",
   "name": "python3"
  },
  "language_info": {
   "codemirror_mode": {
    "name": "ipython",
    "version": 3
   },
   "file_extension": ".py",
   "mimetype": "text/x-python",
   "name": "python",
   "nbconvert_exporter": "python",
   "pygments_lexer": "ipython3",
   "version": "3.11.4"
  }
 },
 "nbformat": 4,
 "nbformat_minor": 5
}
