{
 "cells": [
  {
   "cell_type": "markdown",
   "id": "57350155",
   "metadata": {},
   "source": [
    "#### this is my first jupyer notebook!"
   ]
  },
  {
   "cell_type": "code",
   "execution_count": 9,
   "id": "7a4580fa",
   "metadata": {},
   "outputs": [
    {
     "name": "stdout",
     "output_type": "stream",
     "text": [
      "Hello, World\n"
     ]
    }
   ],
   "source": [
    "print(\"Hello, World\")"
   ]
  },
  {
   "cell_type": "markdown",
   "id": "810e749d",
   "metadata": {},
   "source": [
    "# Variables"
   ]
  },
  {
   "cell_type": "code",
   "execution_count": 13,
   "id": "d999dc68",
   "metadata": {},
   "outputs": [],
   "source": [
    "greeting = \"Hello, World!\""
   ]
  },
  {
   "cell_type": "code",
   "execution_count": 14,
   "id": "811adb86",
   "metadata": {},
   "outputs": [
    {
     "name": "stdout",
     "output_type": "stream",
     "text": [
      "Hello, World!\n"
     ]
    }
   ],
   "source": [
    "print(greeting)"
   ]
  },
  {
   "cell_type": "code",
   "execution_count": 15,
   "id": "bb88ec98",
   "metadata": {},
   "outputs": [
    {
     "ename": "NameError",
     "evalue": "name 'greating' is not defined",
     "output_type": "error",
     "traceback": [
      "\u001b[0;31m---------------------------------------------------------------------------\u001b[0m",
      "\u001b[0;31mNameError\u001b[0m                                 Traceback (most recent call last)",
      "Cell \u001b[0;32mIn[15], line 1\u001b[0m\n\u001b[0;32m----> 1\u001b[0m \u001b[38;5;28mprint\u001b[39m(greating)\n",
      "\u001b[0;31mNameError\u001b[0m: name 'greating' is not defined"
     ]
    }
   ],
   "source": [
    "print(greating)"
   ]
  },
  {
   "cell_type": "code",
   "execution_count": 16,
   "id": "36e4e4ca",
   "metadata": {},
   "outputs": [],
   "source": [
    "greeting = \"Goody, World!\""
   ]
  },
  {
   "cell_type": "code",
   "execution_count": 17,
   "id": "4246e807",
   "metadata": {},
   "outputs": [
    {
     "name": "stdout",
     "output_type": "stream",
     "text": [
      "Goody, World!\n"
     ]
    }
   ],
   "source": [
    "print(greeting)"
   ]
  },
  {
   "cell_type": "markdown",
   "id": "daf43a4a",
   "metadata": {},
   "source": [
    "String"
   ]
  },
  {
   "cell_type": "code",
   "execution_count": 18,
   "id": "ddaaa5d9",
   "metadata": {},
   "outputs": [
    {
     "name": "stdout",
     "output_type": "stream",
     "text": [
      "This is a string.\n"
     ]
    }
   ],
   "source": [
    "example_1=\"This is a string.\"\n",
    "print(example_1)"
   ]
  },
  {
   "cell_type": "code",
   "execution_count": 19,
   "id": "ffa39048",
   "metadata": {},
   "outputs": [
    {
     "name": "stdout",
     "output_type": "stream",
     "text": [
      "I asked the question,\"When should I used double quotes\"\n"
     ]
    }
   ],
   "source": [
    "example_4='I asked the question,\"When should I used double quotes\"'\n",
    "print(example_4)"
   ]
  },
  {
   "cell_type": "code",
   "execution_count": 20,
   "id": "767f4760",
   "metadata": {},
   "outputs": [],
   "source": [
    "historian = \"edward gibbon\""
   ]
  },
  {
   "cell_type": "code",
   "execution_count": 21,
   "id": "9014cbc6",
   "metadata": {},
   "outputs": [
    {
     "name": "stdout",
     "output_type": "stream",
     "text": [
      "edward gibbon\n"
     ]
    }
   ],
   "source": [
    "print(historian)"
   ]
  },
  {
   "cell_type": "code",
   "execution_count": 22,
   "id": "ffa7779d",
   "metadata": {},
   "outputs": [
    {
     "name": "stdout",
     "output_type": "stream",
     "text": [
      "Edward Gibbon\n"
     ]
    }
   ],
   "source": [
    "print(historian.title())"
   ]
  },
  {
   "cell_type": "code",
   "execution_count": 23,
   "id": "34e7fb0b",
   "metadata": {},
   "outputs": [],
   "source": [
    "novelist = \"Becky Chambers\""
   ]
  },
  {
   "cell_type": "code",
   "execution_count": 24,
   "id": "2caafcfd",
   "metadata": {},
   "outputs": [
    {
     "name": "stdout",
     "output_type": "stream",
     "text": [
      "Becky Chambers\n"
     ]
    },
    {
     "ename": "NameError",
     "evalue": "name 'noveslist' is not defined",
     "output_type": "error",
     "traceback": [
      "\u001b[0;31m---------------------------------------------------------------------------\u001b[0m",
      "\u001b[0;31mNameError\u001b[0m                                 Traceback (most recent call last)",
      "Cell \u001b[0;32mIn[24], line 2\u001b[0m\n\u001b[1;32m      1\u001b[0m \u001b[38;5;28mprint\u001b[39m(novelist)\n\u001b[0;32m----> 2\u001b[0m \u001b[38;5;28mprint\u001b[39m(noveslist\u001b[38;5;241m.\u001b[39mupper())\n\u001b[1;32m      3\u001b[0m \u001b[38;5;28mprint\u001b[39m(novelist\u001b[38;5;241m.\u001b[39mlower())\n",
      "\u001b[0;31mNameError\u001b[0m: name 'noveslist' is not defined"
     ]
    }
   ],
   "source": [
    "print(novelist)\n",
    "print(noveslist.upper())\n",
    "print(novelist.lower())"
   ]
  },
  {
   "cell_type": "code",
   "execution_count": 25,
   "id": "e554ac9c",
   "metadata": {},
   "outputs": [
    {
     "name": "stdout",
     "output_type": "stream",
     "text": [
      "Becky Chambers\n",
      "BECKY CHAMBERS\n",
      "becky chambers\n"
     ]
    }
   ],
   "source": [
    "print(novelist)\n",
    "print(novelist.upper())\n",
    "print(novelist.lower())"
   ]
  },
  {
   "cell_type": "markdown",
   "id": "101a3d60",
   "metadata": {},
   "source": [
    "# Heading"
   ]
  },
  {
   "cell_type": "code",
   "execution_count": 1,
   "id": "27fe0edd",
   "metadata": {},
   "outputs": [],
   "source": [
    "string_x = \"can you find the x in this string?\""
   ]
  },
  {
   "cell_type": "code",
   "execution_count": 2,
   "id": "8a83ad21",
   "metadata": {},
   "outputs": [
    {
     "name": "stdout",
     "output_type": "stream",
     "text": [
      "can you find the x in this string?\n"
     ]
    }
   ],
   "source": [
    "print(string_x)"
   ]
  },
  {
   "cell_type": "code",
   "execution_count": 3,
   "id": "8824da94",
   "metadata": {},
   "outputs": [
    {
     "name": "stdout",
     "output_type": "stream",
     "text": [
      "17\n"
     ]
    }
   ],
   "source": [
    "print(string_x.find(\"x\"))"
   ]
  },
  {
   "cell_type": "markdown",
   "id": "31129069",
   "metadata": {},
   "source": [
    "## Integer"
   ]
  },
  {
   "cell_type": "code",
   "execution_count": 4,
   "id": "ecabfea8",
   "metadata": {},
   "outputs": [
    {
     "data": {
      "text/plain": [
       "4223"
      ]
     },
     "execution_count": 4,
     "metadata": {},
     "output_type": "execute_result"
    }
   ],
   "source": [
    "678 + 3545"
   ]
  },
  {
   "cell_type": "code",
   "execution_count": 5,
   "id": "d1c23a46",
   "metadata": {},
   "outputs": [
    {
     "data": {
      "text/plain": [
       "12209"
      ]
     },
     "execution_count": 5,
     "metadata": {},
     "output_type": "execute_result"
    }
   ],
   "source": [
    "12343-134"
   ]
  },
  {
   "cell_type": "code",
   "execution_count": 6,
   "id": "5841a221",
   "metadata": {},
   "outputs": [
    {
     "data": {
      "text/plain": [
       "27"
      ]
     },
     "execution_count": 6,
     "metadata": {},
     "output_type": "execute_result"
    }
   ],
   "source": [
    "3**3"
   ]
  },
  {
   "cell_type": "code",
   "execution_count": 7,
   "id": "25937cf6",
   "metadata": {},
   "outputs": [],
   "source": [
    "large_number = 1_000_000"
   ]
  },
  {
   "cell_type": "code",
   "execution_count": 8,
   "id": "2dddf122",
   "metadata": {},
   "outputs": [
    {
     "data": {
      "text/plain": [
       "1000005"
      ]
     },
     "execution_count": 8,
     "metadata": {},
     "output_type": "execute_result"
    }
   ],
   "source": [
    "large_number + 5"
   ]
  },
  {
   "cell_type": "code",
   "execution_count": 9,
   "id": "4987f3a8",
   "metadata": {},
   "outputs": [],
   "source": [
    "x, y, z = 4, 5, 6"
   ]
  },
  {
   "cell_type": "code",
   "execution_count": 10,
   "id": "48c7a98e",
   "metadata": {},
   "outputs": [
    {
     "name": "stdout",
     "output_type": "stream",
     "text": [
      "5\n"
     ]
    }
   ],
   "source": [
    "print(y)"
   ]
  },
  {
   "cell_type": "code",
   "execution_count": 11,
   "id": "16a298d9",
   "metadata": {},
   "outputs": [
    {
     "name": "stdout",
     "output_type": "stream",
     "text": [
      "<class 'int'>\n"
     ]
    }
   ],
   "source": [
    "print(type(x))"
   ]
  },
  {
   "cell_type": "markdown",
   "id": "5979bf3c",
   "metadata": {},
   "source": [
    "## List"
   ]
  },
  {
   "cell_type": "code",
   "execution_count": 14,
   "id": "8eb12773",
   "metadata": {},
   "outputs": [],
   "source": [
    "subjects = ['classics', 'history', 'literature']"
   ]
  },
  {
   "cell_type": "code",
   "execution_count": 15,
   "id": "93d5d44c",
   "metadata": {},
   "outputs": [
    {
     "name": "stdout",
     "output_type": "stream",
     "text": [
      "['classics', 'history', 'literature']\n"
     ]
    }
   ],
   "source": [
    "print(subjects)"
   ]
  },
  {
   "cell_type": "code",
   "execution_count": 17,
   "id": "d99f8125",
   "metadata": {},
   "outputs": [
    {
     "ename": "TypeError",
     "evalue": "'list' object is not callable",
     "output_type": "error",
     "traceback": [
      "\u001b[0;31m---------------------------------------------------------------------------\u001b[0m",
      "\u001b[0;31mTypeError\u001b[0m                                 Traceback (most recent call last)",
      "Cell \u001b[0;32mIn[17], line 1\u001b[0m\n\u001b[0;32m----> 1\u001b[0m \u001b[38;5;28mprint\u001b[39m(subjects(\u001b[38;5;241m1\u001b[39m))\n",
      "\u001b[0;31mTypeError\u001b[0m: 'list' object is not callable"
     ]
    }
   ],
   "source": [
    "print(subjects(1))"
   ]
  },
  {
   "cell_type": "code",
   "execution_count": 18,
   "id": "1a4421d9",
   "metadata": {},
   "outputs": [
    {
     "name": "stdout",
     "output_type": "stream",
     "text": [
      "history\n"
     ]
    }
   ],
   "source": [
    "print(subjects[1])"
   ]
  },
  {
   "cell_type": "code",
   "execution_count": null,
   "id": "60809f92",
   "metadata": {},
   "outputs": [],
   "source": []
  }
 ],
 "metadata": {
  "kernelspec": {
   "display_name": "Python 3 (ipykernel)",
   "language": "python",
   "name": "python3"
  },
  "language_info": {
   "codemirror_mode": {
    "name": "ipython",
    "version": 3
   },
   "file_extension": ".py",
   "mimetype": "text/x-python",
   "name": "python",
   "nbconvert_exporter": "python",
   "pygments_lexer": "ipython3",
   "version": "3.11.4"
  }
 },
 "nbformat": 4,
 "nbformat_minor": 5
}
