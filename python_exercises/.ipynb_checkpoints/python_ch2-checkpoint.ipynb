{
 "cells": [
  {
   "cell_type": "markdown",
   "id": "7ce7f3c2",
   "metadata": {},
   "source": [
    "### Olly Ogbue\n",
    "#### This progam holds each chapter two exercises"
   ]
  },
  {
   "cell_type": "markdown",
   "id": "80ae71b0",
   "metadata": {},
   "source": [
    "## 2.1"
   ]
  },
  {
   "cell_type": "code",
   "execution_count": 4,
   "id": "764e15c2",
   "metadata": {},
   "outputs": [
    {
     "name": "stdout",
     "output_type": "stream",
     "text": [
      "<3\n"
     ]
    }
   ],
   "source": [
    "katrina = \"<3\"\n",
    "print(katrina)"
   ]
  },
  {
   "cell_type": "markdown",
   "id": "7de9d350",
   "metadata": {},
   "source": [
    "## 2.2"
   ]
  },
  {
   "cell_type": "code",
   "execution_count": 5,
   "id": "9e31e558",
   "metadata": {},
   "outputs": [
    {
     "name": "stdout",
     "output_type": "stream",
     "text": [
      "lets get this party started!\n",
      "rawr xD\n"
     ]
    }
   ],
   "source": [
    "message = \"lets get this party started!\"\n",
    "print(message)\n",
    "\n",
    "message = \"rawr xD\"\n",
    "print(message)"
   ]
  },
  {
   "cell_type": "markdown",
   "id": "343d9882",
   "metadata": {},
   "source": [
    "## 2.3"
   ]
  },
  {
   "cell_type": "code",
   "execution_count": 7,
   "id": "1841a9e0",
   "metadata": {},
   "outputs": [
    {
     "name": "stdout",
     "output_type": "stream",
     "text": [
      "hello bob, nice weather huh\n"
     ]
    }
   ],
   "source": [
    "yellow = \"bob\"\n",
    "delivery = \"hello \"+ yellow + \", \" + \"nice weather huh\"\n",
    "print(delivery)"
   ]
  },
  {
   "cell_type": "code",
   "execution_count": 8,
   "id": "efc977a6",
   "metadata": {},
   "outputs": [
    {
     "ename": "SyntaxError",
     "evalue": "invalid syntax (2091306885.py, line 1)",
     "output_type": "error",
     "traceback": [
      "\u001b[0;36m  Cell \u001b[0;32mIn[8], line 1\u001b[0;36m\u001b[0m\n\u001b[0;31m    celeb = janelle monae\u001b[0m\n\u001b[0m                    ^\u001b[0m\n\u001b[0;31mSyntaxError\u001b[0m\u001b[0;31m:\u001b[0m invalid syntax\n"
     ]
    }
   ],
   "source": [
    "celeb = janelle monae\n",
    "print(celeb)\n",
    "print(celeb.upper())\n",
    "print(celeb.lower())"
   ]
  },
  {
   "cell_type": "code",
   "execution_count": 9,
   "id": "7ee19985",
   "metadata": {},
   "outputs": [
    {
     "name": "stdout",
     "output_type": "stream",
     "text": [
      "janelle monae\n",
      "JANELLE MONAE\n",
      "janelle monae\n"
     ]
    }
   ],
   "source": [
    "celeb = \"janelle monae\"\n",
    "print(celeb)\n",
    "print(celeb.upper())\n",
    "print(celeb.lower())"
   ]
  },
  {
   "cell_type": "markdown",
   "id": "56c840e0",
   "metadata": {},
   "source": [
    "## 2.4 "
   ]
  },
  {
   "cell_type": "code",
   "execution_count": 10,
   "id": "7556011b",
   "metadata": {},
   "outputs": [
    {
     "name": "stdout",
     "output_type": "stream",
     "text": [
      "Janelle Monae\n"
     ]
    }
   ],
   "source": [
    "print(celeb.title())\n"
   ]
  },
  {
   "cell_type": "markdown",
   "id": "4a2c6b48",
   "metadata": {},
   "source": [
    "## 2.5"
   ]
  },
  {
   "cell_type": "code",
   "execution_count": 12,
   "id": "25a65e63",
   "metadata": {},
   "outputs": [
    {
     "name": "stdout",
     "output_type": "stream",
     "text": [
      "Mindy Kaling once said, 'I have such a rich fantasy life, I can't help it. I do make up a lot of romantic stories in my head.'\n"
     ]
    }
   ],
   "source": [
    "sentence = \" once said, 'I have such a rich fantasy life, I can't help it. I do make up a lot of romantic stories in my head.'\"\n",
    "speaker = \"Mindy Kaling\"\n",
    "print(speaker + sentence)"
   ]
  },
  {
   "cell_type": "markdown",
   "id": "bb2afc45",
   "metadata": {},
   "source": [
    "## 2.6"
   ]
  },
  {
   "cell_type": "code",
   "execution_count": 18,
   "id": "f186b30c",
   "metadata": {},
   "outputs": [
    {
     "name": "stdout",
     "output_type": "stream",
     "text": [
      "Mindy Kaling once said, 'I have such a rich fantasy life, I can't help it. I do make up a lot of romantic stories in my head.' \n"
     ]
    }
   ],
   "source": [
    "famous_person = \"Mindy Kaling\"\n",
    "quote = \"'I have such a rich fantasy life, I can't help it. I do make up a lot of romantic stories in my head.' \"\n",
    "message = famous_person + \" once said, \"+ quote\n",
    "print(message)"
   ]
  },
  {
   "cell_type": "markdown",
   "id": "a0bd8160",
   "metadata": {},
   "source": [
    "## 2.7"
   ]
  },
  {
   "cell_type": "code",
   "execution_count": 27,
   "id": "581b8ec8",
   "metadata": {},
   "outputs": [
    {
     "name": "stdout",
     "output_type": "stream",
     "text": [
      "' helen ' \n"
     ]
    }
   ],
   "source": [
    "name = \"' helen ' \"\n",
    "print(name)"
   ]
  },
  {
   "cell_type": "code",
   "execution_count": 20,
   "id": "48b2af65",
   "metadata": {},
   "outputs": [
    {
     "data": {
      "text/plain": [
       "'helen '"
      ]
     },
     "execution_count": 20,
     "metadata": {},
     "output_type": "execute_result"
    }
   ],
   "source": [
    "name = \" helen \"\n",
    "name.lstrip()"
   ]
  },
  {
   "cell_type": "code",
   "execution_count": 21,
   "id": "9e3e4a2e",
   "metadata": {},
   "outputs": [
    {
     "data": {
      "text/plain": [
       "' helen'"
      ]
     },
     "execution_count": 21,
     "metadata": {},
     "output_type": "execute_result"
    }
   ],
   "source": [
    "name = \" helen \"\n",
    "name.rstrip()"
   ]
  },
  {
   "cell_type": "code",
   "execution_count": 23,
   "id": "346c2b2b",
   "metadata": {},
   "outputs": [
    {
     "data": {
      "text/plain": [
       "'helen'"
      ]
     },
     "execution_count": 23,
     "metadata": {},
     "output_type": "execute_result"
    }
   ],
   "source": [
    "name = \" helen \"\n",
    "name.strip()"
   ]
  },
  {
   "cell_type": "markdown",
   "id": "41b51446",
   "metadata": {},
   "source": [
    "## 2.8"
   ]
  },
  {
   "cell_type": "code",
   "execution_count": 28,
   "id": "4255e4ff",
   "metadata": {},
   "outputs": [
    {
     "name": "stdout",
     "output_type": "stream",
     "text": [
      "8\n"
     ]
    }
   ],
   "source": [
    "print(4+4)"
   ]
  },
  {
   "cell_type": "code",
   "execution_count": 29,
   "id": "801c206f",
   "metadata": {},
   "outputs": [
    {
     "name": "stdout",
     "output_type": "stream",
     "text": [
      "8\n"
     ]
    }
   ],
   "source": [
    "print(2*4)"
   ]
  },
  {
   "cell_type": "code",
   "execution_count": 30,
   "id": "3f5219dc",
   "metadata": {},
   "outputs": [
    {
     "name": "stdout",
     "output_type": "stream",
     "text": [
      "8.0\n"
     ]
    }
   ],
   "source": [
    "print(16/2)"
   ]
  },
  {
   "cell_type": "code",
   "execution_count": 31,
   "id": "db85919b",
   "metadata": {},
   "outputs": [
    {
     "name": "stdout",
     "output_type": "stream",
     "text": [
      "8\n"
     ]
    }
   ],
   "source": [
    "print(14-6)"
   ]
  },
  {
   "cell_type": "markdown",
   "id": "19031b22",
   "metadata": {},
   "source": [
    "## 2.9"
   ]
  },
  {
   "cell_type": "code",
   "execution_count": 38,
   "id": "eab31a32",
   "metadata": {},
   "outputs": [
    {
     "name": "stdout",
     "output_type": "stream",
     "text": [
      "my favorite muber is ...\n",
      "28\n"
     ]
    }
   ],
   "source": [
    "fav_number = 28\n",
    "sentence = \"my favorite muber is ...\"\n",
    "print(sentence) \n",
    "print(fav_number)"
   ]
  },
  {
   "cell_type": "code",
   "execution_count": 42,
   "id": "576f40ba",
   "metadata": {},
   "outputs": [
    {
     "name": "stdout",
     "output_type": "stream",
     "text": [
      "my favorite muber is ... 28 !\n"
     ]
    }
   ],
   "source": [
    "fav_number = \"28\"\n",
    "sentence = \"my favorite muber is ... \" + fav_number + \" !\"\n",
    "print(sentence) "
   ]
  },
  {
   "cell_type": "code",
   "execution_count": null,
   "id": "59c05b1c",
   "metadata": {},
   "outputs": [],
   "source": []
  }
 ],
 "metadata": {
  "kernelspec": {
   "display_name": "Python 3 (ipykernel)",
   "language": "python",
   "name": "python3"
  },
  "language_info": {
   "codemirror_mode": {
    "name": "ipython",
    "version": 3
   },
   "file_extension": ".py",
   "mimetype": "text/x-python",
   "name": "python",
   "nbconvert_exporter": "python",
   "pygments_lexer": "ipython3",
   "version": "3.11.4"
  }
 },
 "nbformat": 4,
 "nbformat_minor": 5
}
