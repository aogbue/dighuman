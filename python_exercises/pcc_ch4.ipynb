{
 "cells": [
  {
   "cell_type": "markdown",
   "id": "a45ae854",
   "metadata": {},
   "source": [
    "## 4.1"
   ]
  },
  {
   "cell_type": "code",
   "execution_count": 37,
   "id": "038796f0",
   "metadata": {},
   "outputs": [],
   "source": [
    "pizzas = [\"pepperoni & honey\",\"pineapple\",\"peppers & sausage\"]"
   ]
  },
  {
   "cell_type": "code",
   "execution_count": 7,
   "id": "6c83c5f7",
   "metadata": {},
   "outputs": [
    {
     "name": "stdout",
     "output_type": "stream",
     "text": [
      "pepperoni & honey\n",
      "pineapple\n",
      "peppers & sausage\n"
     ]
    }
   ],
   "source": [
    "for pizza in pizzas:\n",
    "    print(pizza)"
   ]
  },
  {
   "cell_type": "code",
   "execution_count": 16,
   "id": "33c08c91",
   "metadata": {},
   "outputs": [
    {
     "name": "stdout",
     "output_type": "stream",
     "text": [
      "Pepperoni & Honey on pizza is sooooo good <3\n",
      "Pineapple on pizza is sooooo good <3\n",
      "Peppers & Sausage on pizza is sooooo good <3\n",
      "pizza is superior.\n",
      "\n"
     ]
    }
   ],
   "source": [
    "for pizza in pizzas:\n",
    "    print(pizza.title() + \" on pizza is sooooo good <3\")\n",
    "    \n",
    "print(\"pizza is superior\"+\".\\n\")"
   ]
  },
  {
   "cell_type": "markdown",
   "id": "b0e8ee4f",
   "metadata": {},
   "source": [
    "## 4.2"
   ]
  },
  {
   "cell_type": "code",
   "execution_count": 18,
   "id": "680bfbbd",
   "metadata": {},
   "outputs": [
    {
     "name": "stdout",
     "output_type": "stream",
     "text": [
      "['puppy', 'kitten', 'rabbit']\n"
     ]
    }
   ],
   "source": [
    "animals = [\"puppy\",\"kitten\",\"rabbit\"]\n",
    "print(animals)"
   ]
  },
  {
   "cell_type": "code",
   "execution_count": 21,
   "id": "b65e6422",
   "metadata": {},
   "outputs": [
    {
     "name": "stdout",
     "output_type": "stream",
     "text": [
      "Puppy would be a great pet one day \n",
      "\n",
      "Kitten would be a great pet one day \n",
      "\n",
      "Rabbit would be a great pet one day \n",
      "\n",
      "All of these animals are such cute pet contenders\n"
     ]
    }
   ],
   "source": [
    "for animal in animals:\n",
    "    print(animal.title() + \" would be a great pet one day\"+\" \\n\")\n",
    "\n",
    "print(\"All of these animals are such cute pet contenders\")"
   ]
  },
  {
   "cell_type": "markdown",
   "id": "2967b776",
   "metadata": {},
   "source": [
    "## 4.3"
   ]
  },
  {
   "cell_type": "code",
   "execution_count": 22,
   "id": "28cdc86f",
   "metadata": {},
   "outputs": [
    {
     "name": "stdout",
     "output_type": "stream",
     "text": [
      "1\n",
      "2\n",
      "3\n",
      "4\n",
      "5\n",
      "6\n",
      "7\n",
      "8\n",
      "9\n",
      "10\n",
      "11\n",
      "12\n",
      "13\n",
      "14\n",
      "15\n",
      "16\n",
      "17\n",
      "18\n",
      "19\n",
      "20\n"
     ]
    }
   ],
   "source": [
    "for value in range(1,21):\n",
    "    print(value)"
   ]
  },
  {
   "cell_type": "markdown",
   "id": "50f3f684",
   "metadata": {},
   "source": [
    "## 4.6"
   ]
  },
  {
   "cell_type": "code",
   "execution_count": 23,
   "id": "3bd0a5cc",
   "metadata": {},
   "outputs": [
    {
     "name": "stdout",
     "output_type": "stream",
     "text": [
      "1\n",
      "3\n",
      "5\n",
      "7\n",
      "9\n",
      "11\n",
      "13\n",
      "15\n",
      "17\n",
      "19\n"
     ]
    }
   ],
   "source": [
    "for value in range(1,21,2):\n",
    "    print(value)"
   ]
  },
  {
   "cell_type": "markdown",
   "id": "a815763a",
   "metadata": {},
   "source": [
    "## 4.10"
   ]
  },
  {
   "cell_type": "code",
   "execution_count": 29,
   "id": "042654a1",
   "metadata": {},
   "outputs": [],
   "source": [
    "zodiac = [\"libra\",\"aquarius\",\"leo\",\"cancer\",\"taurus\",\"virgo\"]"
   ]
  },
  {
   "cell_type": "code",
   "execution_count": 30,
   "id": "042b048b",
   "metadata": {},
   "outputs": [
    {
     "name": "stdout",
     "output_type": "stream",
     "text": [
      "The first three items in the list are: \n",
      "['libra', 'aquarius', 'leo']\n"
     ]
    }
   ],
   "source": [
    "print(\"The first three items in the list are: \")\n",
    "print(zodiac[0:3])"
   ]
  },
  {
   "cell_type": "code",
   "execution_count": 32,
   "id": "46606418",
   "metadata": {},
   "outputs": [
    {
     "name": "stdout",
     "output_type": "stream",
     "text": [
      "Three items from the middle of the list are: \n",
      "['leo', 'cancer', 'taurus']\n"
     ]
    }
   ],
   "source": [
    "print(\"Three items from the middle of the list are: \")\n",
    "print(zodiac[2:5])"
   ]
  },
  {
   "cell_type": "code",
   "execution_count": 34,
   "id": "c132c2a9",
   "metadata": {},
   "outputs": [
    {
     "name": "stdout",
     "output_type": "stream",
     "text": [
      "e, The last three items in the list are: \n",
      "['cancer', 'taurus', 'virgo']\n"
     ]
    }
   ],
   "source": [
    "print(\"e, The last three items in the list are: \")\n",
    "print(zodiac[3:6])"
   ]
  },
  {
   "cell_type": "markdown",
   "id": "04a6c3b8",
   "metadata": {},
   "source": [
    "## 4.11"
   ]
  },
  {
   "cell_type": "code",
   "execution_count": 35,
   "id": "5599f1cf",
   "metadata": {},
   "outputs": [
    {
     "name": "stdout",
     "output_type": "stream",
     "text": [
      "['pepperoni & honey', 'pineapple', 'peppers & sausage']\n"
     ]
    }
   ],
   "source": [
    "print(pizzas)"
   ]
  },
  {
   "cell_type": "code",
   "execution_count": 38,
   "id": "6984deda",
   "metadata": {},
   "outputs": [],
   "source": [
    "friend_pizzas = pizzas[:]"
   ]
  },
  {
   "cell_type": "code",
   "execution_count": 39,
   "id": "a1c6d856",
   "metadata": {},
   "outputs": [],
   "source": [
    "pizzas.append(\"veggie\")\n",
    "friend_pizzas.append(\"olive\")"
   ]
  },
  {
   "cell_type": "code",
   "execution_count": 42,
   "id": "1bf664d4",
   "metadata": {},
   "outputs": [
    {
     "name": "stdout",
     "output_type": "stream",
     "text": [
      "My favorite pizzas are: \n",
      "My favorite pizzas are:Pepperoni & Honey\n",
      "My favorite pizzas are:Pineapple\n",
      "My favorite pizzas are:Peppers & Sausage\n",
      "My favorite pizzas are:Veggie\n",
      "\n",
      "\n",
      "My friend's favorite pizzas are: \n",
      "My favorite pizzas are:Pepperoni & Honey\n",
      "My favorite pizzas are:Pineapple\n",
      "My favorite pizzas are:Peppers & Sausage\n",
      "My favorite pizzas are:Olive\n",
      "\n",
      "\n"
     ]
    }
   ],
   "source": [
    "print(\"My favorite pizzas are: \")\n",
    "for pizza in pizzas:\n",
    "    print(\"My favorite pizzas are:\"+ pizza.title())\n",
    "    \n",
    "print(\"\\n\")\n",
    "print(\"My friend's favorite pizzas are: \")\n",
    "\n",
    "for fp in friend_pizzas:\n",
    "    print(\"My favorite pizzas are:\" + fp.title())\n",
    "    \n",
    "print(\"\\n\")"
   ]
  },
  {
   "cell_type": "code",
   "execution_count": null,
   "id": "0fdabc02",
   "metadata": {},
   "outputs": [],
   "source": []
  }
 ],
 "metadata": {
  "kernelspec": {
   "display_name": "Python 3 (ipykernel)",
   "language": "python",
   "name": "python3"
  },
  "language_info": {
   "codemirror_mode": {
    "name": "ipython",
    "version": 3
   },
   "file_extension": ".py",
   "mimetype": "text/x-python",
   "name": "python",
   "nbconvert_exporter": "python",
   "pygments_lexer": "ipython3",
   "version": "3.11.4"
  }
 },
 "nbformat": 4,
 "nbformat_minor": 5
}
