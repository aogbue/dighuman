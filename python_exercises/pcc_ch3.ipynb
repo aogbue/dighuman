{
 "cells": [
  {
   "cell_type": "markdown",
   "id": "88777fd0",
   "metadata": {},
   "source": [
    "## 3.1"
   ]
  },
  {
   "cell_type": "code",
   "execution_count": null,
   "id": "be61ccbe",
   "metadata": {},
   "outputs": [],
   "source": [
    "## in the middle of this program, you will find a large portion of commented out code. \n",
    "## this is the result of my code, seemingly unprompted, ceasing to recoginze my list variable.\n",
    "## this has made me unable to properly test the rest of my code, apologies in advance"
   ]
  },
  {
   "cell_type": "code",
   "execution_count": 83,
   "id": "60dde8cf",
   "metadata": {},
   "outputs": [],
   "source": [
    "names = [\"saffiyah\", \"baljaa\", \"katrina\"]"
   ]
  },
  {
   "cell_type": "code",
   "execution_count": 85,
   "id": "b9933fbb",
   "metadata": {},
   "outputs": [
    {
     "data": {
      "text/plain": [
       "'saffiyah'"
      ]
     },
     "execution_count": 85,
     "metadata": {},
     "output_type": "execute_result"
    }
   ],
   "source": [
    "names[0]"
   ]
  },
  {
   "cell_type": "code",
   "execution_count": 86,
   "id": "41b57ec0",
   "metadata": {},
   "outputs": [
    {
     "data": {
      "text/plain": [
       "'baljaa'"
      ]
     },
     "execution_count": 86,
     "metadata": {},
     "output_type": "execute_result"
    }
   ],
   "source": [
    "names[1]"
   ]
  },
  {
   "cell_type": "code",
   "execution_count": 87,
   "id": "63bf9459",
   "metadata": {},
   "outputs": [
    {
     "data": {
      "text/plain": [
       "'katrina'"
      ]
     },
     "execution_count": 87,
     "metadata": {},
     "output_type": "execute_result"
    }
   ],
   "source": [
    "names[2]"
   ]
  },
  {
   "cell_type": "code",
   "execution_count": null,
   "id": "b316a5b4",
   "metadata": {},
   "outputs": [],
   "source": []
  },
  {
   "cell_type": "markdown",
   "id": "6eec8742",
   "metadata": {},
   "source": [
    "## 3.2"
   ]
  },
  {
   "cell_type": "code",
   "execution_count": 95,
   "id": "28f63dbd",
   "metadata": {},
   "outputs": [
    {
     "data": {
      "text/plain": [
       "'i <3 you saffiyah'"
      ]
     },
     "execution_count": 95,
     "metadata": {},
     "output_type": "execute_result"
    }
   ],
   "source": [
    "message = \"i <3 you\"\n",
    "message + \" \" + friends[0]"
   ]
  },
  {
   "cell_type": "code",
   "execution_count": 94,
   "id": "6d252c0e",
   "metadata": {},
   "outputs": [
    {
     "data": {
      "text/plain": [
       "'i <3 you baljaa'"
      ]
     },
     "execution_count": 94,
     "metadata": {},
     "output_type": "execute_result"
    }
   ],
   "source": [
    "message + \" \" + friends[1]"
   ]
  },
  {
   "cell_type": "code",
   "execution_count": 93,
   "id": "8fdb62b0",
   "metadata": {},
   "outputs": [
    {
     "data": {
      "text/plain": [
       "'i <3 you katrina'"
      ]
     },
     "execution_count": 93,
     "metadata": {},
     "output_type": "execute_result"
    }
   ],
   "source": [
    "message + \" \" + friends[2]"
   ]
  },
  {
   "cell_type": "markdown",
   "id": "843290ac",
   "metadata": {},
   "source": [
    "## 3.3"
   ]
  },
  {
   "cell_type": "code",
   "execution_count": 97,
   "id": "261e13ef",
   "metadata": {},
   "outputs": [
    {
     "data": {
      "text/plain": [
       "\"the way paris metro cars don't fully stop sometimes scares me\""
      ]
     },
     "execution_count": 97,
     "metadata": {},
     "output_type": "execute_result"
    }
   ],
   "source": [
    "metro = [\"paris metro\" , \"copenhagen metro\" , \"madrid metro\"]\n",
    "huh = \"i found the \" + metro[2] + \" to be the most confusing\"\n",
    "oop = \"the way \"+ metro[0] + \" cars don't fully stop sometimes scares me\"\n",
    "love = \"the \" + metro[1] + \" is so good, miss her </3\"\n",
    "oop"
   ]
  },
  {
   "cell_type": "code",
   "execution_count": 98,
   "id": "31cb91c2",
   "metadata": {},
   "outputs": [
    {
     "data": {
      "text/plain": [
       "'i found the madrid metro to be the most confusing'"
      ]
     },
     "execution_count": 98,
     "metadata": {},
     "output_type": "execute_result"
    }
   ],
   "source": [
    "huh"
   ]
  },
  {
   "cell_type": "code",
   "execution_count": 99,
   "id": "39cd4fbe",
   "metadata": {},
   "outputs": [
    {
     "data": {
      "text/plain": [
       "'the copenhagen metro is so good, miss her </3'"
      ]
     },
     "execution_count": 99,
     "metadata": {},
     "output_type": "execute_result"
    }
   ],
   "source": [
    "love"
   ]
  },
  {
   "cell_type": "markdown",
   "id": "c7f33b13",
   "metadata": {},
   "source": [
    "## 3.4"
   ]
  },
  {
   "cell_type": "code",
   "execution_count": 54,
   "id": "4cc27d4e",
   "metadata": {},
   "outputs": [
    {
     "ename": "TypeError",
     "evalue": "'str' object is not callable",
     "output_type": "error",
     "traceback": [
      "\u001b[0;31m---------------------------------------------------------------------------\u001b[0m",
      "\u001b[0;31mTypeError\u001b[0m                                 Traceback (most recent call last)",
      "Cell \u001b[0;32mIn[54], line 2\u001b[0m\n\u001b[1;32m      1\u001b[0m dinner \u001b[38;5;241m=\u001b[39m [\u001b[38;5;124m\"\u001b[39m\u001b[38;5;124mwhitney houston\u001b[39m\u001b[38;5;124m\"\u001b[39m, \u001b[38;5;124m\"\u001b[39m\u001b[38;5;124mjuanita\u001b[39m\u001b[38;5;124m\"\u001b[39m, \u001b[38;5;124m\"\u001b[39m\u001b[38;5;124mmarsai martin\u001b[39m\u001b[38;5;124m\"\u001b[39m]\n\u001b[0;32m----> 2\u001b[0m \u001b[38;5;28mprint\u001b[39m(dinner)\n",
      "\u001b[0;31mTypeError\u001b[0m: 'str' object is not callable"
     ]
    }
   ],
   "source": [
    "dinner = [\"whitney houston\", \"juanita\", \"marsai martin\"]\n",
    "print(dinner)\n",
    "\n",
    "## invite = \" are you free for dinner on monday?\" \n",
    "## print(dinner[0] + invite)\n",
    "## print(dinner[1] + invite)\n",
    "## print(dinner[2] + invite)"
   ]
  },
  {
   "cell_type": "markdown",
   "id": "685413e0",
   "metadata": {},
   "source": [
    "## 3.5"
   ]
  },
  {
   "cell_type": "code",
   "execution_count": 47,
   "id": "2e082fa1",
   "metadata": {},
   "outputs": [
    {
     "ename": "TypeError",
     "evalue": "'str' object is not callable",
     "output_type": "error",
     "traceback": [
      "\u001b[0;31m---------------------------------------------------------------------------\u001b[0m",
      "\u001b[0;31mTypeError\u001b[0m                                 Traceback (most recent call last)",
      "Cell \u001b[0;32mIn[47], line 1\u001b[0m\n\u001b[0;32m----> 1\u001b[0m \u001b[38;5;28mprint\u001b[39m(dinner)\n\u001b[1;32m      2\u001b[0m decline \u001b[38;5;241m=\u001b[39m dinner[\u001b[38;5;241m2\u001b[39m]\n\u001b[1;32m      3\u001b[0m \u001b[38;5;28mprint\u001b[39m \u001b[38;5;241m=\u001b[39m decline \u001b[38;5;241m+\u001b[39m \u001b[38;5;124m\"\u001b[39m\u001b[38;5;124m cant make it :(\u001b[39m\u001b[38;5;124m\"\u001b[39m\n",
      "\u001b[0;31mTypeError\u001b[0m: 'str' object is not callable"
     ]
    }
   ],
   "source": [
    "print(dinner)\n",
    "decline = dinner[2]\n",
    "print = decline + \" cant make it :(\"\n",
    "dinner[2] = \"ayo edibri\"\n",
    "\n",
    "\n",
    "print(dinner[0] + invite)\n",
    "print(dinner[1] + invite)\n",
    "print(dinner[2] + invite)"
   ]
  },
  {
   "cell_type": "markdown",
   "id": "e1dd973f",
   "metadata": {},
   "source": [
    "## 3.6"
   ]
  },
  {
   "cell_type": "code",
   "execution_count": 53,
   "id": "7ddac776",
   "metadata": {},
   "outputs": [
    {
     "ename": "TypeError",
     "evalue": "'str' object is not callable",
     "output_type": "error",
     "traceback": [
      "\u001b[0;31m---------------------------------------------------------------------------\u001b[0m",
      "\u001b[0;31mTypeError\u001b[0m                                 Traceback (most recent call last)",
      "Cell \u001b[0;32mIn[53], line 2\u001b[0m\n\u001b[1;32m      1\u001b[0m news \u001b[38;5;241m=\u001b[39m \u001b[38;5;124m\"\u001b[39m\u001b[38;5;124meveryone, turns out tatiana\u001b[39m\u001b[38;5;124m'\u001b[39m\u001b[38;5;124ms can get a bigger table than planned!\u001b[39m\u001b[38;5;124m\"\u001b[39m\n\u001b[0;32m----> 2\u001b[0m \u001b[38;5;28mprint\u001b[39m(news)\n",
      "\u001b[0;31mTypeError\u001b[0m: 'str' object is not callable"
     ]
    }
   ],
   "source": [
    "## news = \"everyone, turns out tatiana's can get a bigger table than planned!\"\n",
    "## print(news)\n",
    "\n",
    "## dinner.insert(0, \"juanita\")\n",
    "## dinner.insert(1, \"issa rae\")\n",
    "## dinner.append(\"helen\")\n",
    "\n",
    "## print(dinner[0] + invite)\n",
    "## print(dinner[1] + invite)\n",
    "## print(dinner[2] + invite)\n",
    "## print(dinner[3] + invite)\n",
    "## print(dinner[4] + invite)"
   ]
  },
  {
   "cell_type": "markdown",
   "id": "f2703ada",
   "metadata": {},
   "source": [
    "## 3.7"
   ]
  },
  {
   "cell_type": "code",
   "execution_count": 24,
   "id": "3e73fecc",
   "metadata": {},
   "outputs": [
    {
     "name": "stdout",
     "output_type": "stream",
     "text": [
      "plans fell through, i'll have to downsize the group\n"
     ]
    },
    {
     "ename": "IndexError",
     "evalue": "list index out of range",
     "output_type": "error",
     "traceback": [
      "\u001b[0;31m---------------------------------------------------------------------------\u001b[0m",
      "\u001b[0;31mIndexError\u001b[0m                                Traceback (most recent call last)",
      "Cell \u001b[0;32mIn[24], line 3\u001b[0m\n\u001b[1;32m      1\u001b[0m sad \u001b[38;5;241m=\u001b[39m \u001b[38;5;124m\"\u001b[39m\u001b[38;5;124mplans fell through, i\u001b[39m\u001b[38;5;124m'\u001b[39m\u001b[38;5;124mll have to downsize the group\u001b[39m\u001b[38;5;124m\"\u001b[39m\n\u001b[1;32m      2\u001b[0m \u001b[38;5;28mprint\u001b[39m(sad)\n\u001b[0;32m----> 3\u001b[0m \u001b[38;5;28mprint\u001b[39m(guests[\u001b[38;5;241m3\u001b[39m])\n\u001b[1;32m      4\u001b[0m remove \u001b[38;5;241m=\u001b[39m guests\u001b[38;5;241m.\u001b[39mpop()\n\u001b[1;32m      5\u001b[0m \u001b[38;5;28mnext\u001b[39m \u001b[38;5;241m=\u001b[39m remove \u001b[38;5;241m+\u001b[39m \u001b[38;5;124m\"\u001b[39m\u001b[38;5;124m so sorry, but we\u001b[39m\u001b[38;5;124m'\u001b[39m\u001b[38;5;124mll have to reschedule\u001b[39m\u001b[38;5;124m\"\u001b[39m\n",
      "\u001b[0;31mIndexError\u001b[0m: list index out of range"
     ]
    }
   ],
   "source": [
    "## sad = \"plans fell through, i'll have to downsize the group\"\n",
    "## print(sad)\n",
    "\n",
    "## remove = dinner.pop()\n",
    "## next = remove + \" so sorry, but we'll have to reschedule\"\n",
    "## print(next)\n",
    "\n",
    "## remove = dinner.pop()\n",
    "## dinner.pop()\n",
    "## print(next)\n",
    "\n",
    "## remove = dinner.pop()\n",
    "## dinner.pop()\n",
    "## print(next)\n",
    "\n",
    "## confirm = \"hope to still see you on monday!\"\n",
    "## print(dinner[0] + confirm)\n",
    "## print(dinner[1] + confirm)\n",
    "\n",
    "## dinner.remove(0)\n",
    "## dinner.remove(1)\n",
    "## print(dinner)"
   ]
  },
  {
   "cell_type": "markdown",
   "id": "ae08554f",
   "metadata": {},
   "source": [
    "## 3.8"
   ]
  },
  {
   "cell_type": "code",
   "execution_count": 34,
   "id": "6e24dfb9",
   "metadata": {},
   "outputs": [],
   "source": [
    "travel = [\"kenya\",\"new zealand\",\"india\",\"taiwan\",\"peru\"]"
   ]
  },
  {
   "cell_type": "code",
   "execution_count": 35,
   "id": "5f0b94c7",
   "metadata": {},
   "outputs": [
    {
     "name": "stdout",
     "output_type": "stream",
     "text": [
      "orginal order\n",
      "['kenya', 'new zealand', 'india', 'taiwan', 'peru']\n"
     ]
    }
   ],
   "source": [
    "print(\"orginal order\")\n",
    "print(travel)"
   ]
  },
  {
   "cell_type": "code",
   "execution_count": 36,
   "id": "8283ce63",
   "metadata": {},
   "outputs": [
    {
     "name": "stdout",
     "output_type": "stream",
     "text": [
      "temp sorted order\n",
      "['india', 'kenya', 'new zealand', 'peru', 'taiwan']\n"
     ]
    }
   ],
   "source": [
    "print(\"temp sorted order\")\n",
    "print(sorted(travel))"
   ]
  },
  {
   "cell_type": "code",
   "execution_count": 37,
   "id": "2a084315",
   "metadata": {},
   "outputs": [
    {
     "name": "stdout",
     "output_type": "stream",
     "text": [
      "orginal order\n",
      "['kenya', 'new zealand', 'india', 'taiwan', 'peru']\n"
     ]
    }
   ],
   "source": [
    "print(\"orginal order\")\n",
    "print(travel)"
   ]
  },
  {
   "cell_type": "code",
   "execution_count": 38,
   "id": "eb3bb4af",
   "metadata": {},
   "outputs": [
    {
     "name": "stdout",
     "output_type": "stream",
     "text": [
      "temp reverse sorted order\n",
      "['taiwan', 'peru', 'new zealand', 'kenya', 'india']\n"
     ]
    }
   ],
   "source": [
    "print(\"temp reverse sorted order\")\n",
    "print(sorted(travel, reverse=True))"
   ]
  },
  {
   "cell_type": "code",
   "execution_count": 39,
   "id": "ff44de95",
   "metadata": {},
   "outputs": [
    {
     "name": "stdout",
     "output_type": "stream",
     "text": [
      "orginal order\n",
      "['kenya', 'new zealand', 'india', 'taiwan', 'peru']\n"
     ]
    }
   ],
   "source": [
    "print(\"orginal order\")\n",
    "print(travel)"
   ]
  },
  {
   "cell_type": "code",
   "execution_count": 40,
   "id": "32896ea2",
   "metadata": {},
   "outputs": [
    {
     "name": "stdout",
     "output_type": "stream",
     "text": [
      "reversed order\n",
      "['peru', 'taiwan', 'india', 'new zealand', 'kenya']\n"
     ]
    }
   ],
   "source": [
    "print(\"reversed order\")\n",
    "travel.reverse()\n",
    "print(travel)"
   ]
  },
  {
   "cell_type": "code",
   "execution_count": 41,
   "id": "f044a8ed",
   "metadata": {},
   "outputs": [
    {
     "name": "stdout",
     "output_type": "stream",
     "text": [
      "re-reversed order\n",
      "['kenya', 'new zealand', 'india', 'taiwan', 'peru']\n"
     ]
    }
   ],
   "source": [
    "print(\"re-reversed order\")\n",
    "travel.reverse()\n",
    "print(travel)"
   ]
  },
  {
   "cell_type": "code",
   "execution_count": 42,
   "id": "1129a059",
   "metadata": {},
   "outputs": [
    {
     "name": "stdout",
     "output_type": "stream",
     "text": [
      "again reversed order\n",
      "['taiwan', 'peru', 'new zealand', 'kenya', 'india']\n"
     ]
    }
   ],
   "source": [
    "print(\"again reversed order\")\n",
    "travel.sort(reverse=True)\n",
    "print(travel)"
   ]
  },
  {
   "cell_type": "code",
   "execution_count": null,
   "id": "4537fe18",
   "metadata": {},
   "outputs": [],
   "source": []
  }
 ],
 "metadata": {
  "kernelspec": {
   "display_name": "Python 3 (ipykernel)",
   "language": "python",
   "name": "python3"
  },
  "language_info": {
   "codemirror_mode": {
    "name": "ipython",
    "version": 3
   },
   "file_extension": ".py",
   "mimetype": "text/x-python",
   "name": "python",
   "nbconvert_exporter": "python",
   "pygments_lexer": "ipython3",
   "version": "3.11.4"
  }
 },
 "nbformat": 4,
 "nbformat_minor": 5
}
