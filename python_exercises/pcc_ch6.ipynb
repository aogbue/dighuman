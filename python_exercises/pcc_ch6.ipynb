{
 "cells": [
  {
   "cell_type": "markdown",
   "id": "7d270960",
   "metadata": {},
   "source": [
    "## 6-1"
   ]
  },
  {
   "cell_type": "code",
   "execution_count": 3,
   "id": "25be7dd9",
   "metadata": {},
   "outputs": [
    {
     "name": "stdout",
     "output_type": "stream",
     "text": [
      "{'first name': 'doc', 'last name': 'mcstuffins', 'city': 'McStuffinsville'}\n"
     ]
    }
   ],
   "source": [
    "doc_info = {'first name':'doc','last name':'mcstuffins','city':'McStuffinsville'}\n",
    "print(doc_info)"
   ]
  },
  {
   "cell_type": "markdown",
   "id": "cdc032b2",
   "metadata": {},
   "source": [
    "## 6-2 "
   ]
  },
  {
   "cell_type": "code",
   "execution_count": 7,
   "id": "88520e6b",
   "metadata": {},
   "outputs": [],
   "source": [
    "favorite_numbers = {\n",
    "    'matilda': '54',\n",
    "    'lavender': '23',\n",
    "    'zinnia': '98',\n",
    "    'julius': '67',\n",
    "    'harry':'38' \n",
    "}"
   ]
  },
  {
   "cell_type": "code",
   "execution_count": 11,
   "id": "ded843ee",
   "metadata": {},
   "outputs": [
    {
     "name": "stdout",
     "output_type": "stream",
     "text": [
      "matilda 54\n",
      "lavender 23\n",
      "zinnia 98\n",
      "julius 67\n",
      "harry 38\n"
     ]
    }
   ],
   "source": [
    "for user, number in favorite_numbers.items():\n",
    "  print(user, number)"
   ]
  },
  {
   "cell_type": "markdown",
   "id": "f9c6eee7",
   "metadata": {},
   "source": [
    "## 6-3 "
   ]
  },
  {
   "cell_type": "code",
   "execution_count": 14,
   "id": "7dc2e001",
   "metadata": {},
   "outputs": [],
   "source": [
    "terms = {\n",
    "    'pop': 'remove',\n",
    "    'append':'add on',\n",
    "    'loop': 'recurse through something',\n",
    "    'title':'titlecase something',\n",
    "    'argument':'a value passed to a function'\n",
    "}"
   ]
  },
  {
   "cell_type": "code",
   "execution_count": 25,
   "id": "7f502f62",
   "metadata": {},
   "outputs": [
    {
     "name": "stdout",
     "output_type": "stream",
     "text": [
      "pop:\n",
      "remove\n",
      "\n",
      "append:\n",
      "add on\n",
      "\n",
      "loop:\n",
      "recurse through something\n",
      "\n",
      "title:\n",
      "titlecase something\n",
      "\n",
      "argument:\n",
      "a value passed to a function\n",
      "\n"
     ]
    }
   ],
   "source": [
    "for term, definition in terms.items():\n",
    "  print(term + ':')\n",
    "  print(definition + '\\n')\n",
    "    "
   ]
  },
  {
   "cell_type": "markdown",
   "id": "176860c7",
   "metadata": {},
   "source": [
    "## 6-4 "
   ]
  },
  {
   "cell_type": "code",
   "execution_count": 28,
   "id": "ce42d2db",
   "metadata": {},
   "outputs": [
    {
     "name": "stdout",
     "output_type": "stream",
     "text": [
      "Pop: Remove\n",
      "Append: Add On\n",
      "Loop: Recurse Through Something\n",
      "Title: Titlecase Something\n",
      "Argument: A Value Passed To A Function\n"
     ]
    }
   ],
   "source": [
    "for term, definition in terms.items():\n",
    "  print(term.title() + ': ' + definition.title())"
   ]
  },
  {
   "cell_type": "code",
   "execution_count": 33,
   "id": "8180ec81",
   "metadata": {},
   "outputs": [],
   "source": [
    "terms = {\n",
    "    'pop': 'remove',\n",
    "    'append':'add on',\n",
    "    'loop': 'recurse through something',\n",
    "    'title':'titlecase something',\n",
    "    'argument': 'a value passed to a function',\n",
    "    'comment': 'code not to be executed',\n",
    "    'int': 'integer number type',\n",
    "    'boolean' : 'true or false value',\n",
    "    'list' : 'ordered collection',\n",
    "    'elif' : 'else if statement'\n",
    "}"
   ]
  },
  {
   "cell_type": "code",
   "execution_count": 34,
   "id": "b90cbb50",
   "metadata": {},
   "outputs": [
    {
     "name": "stdout",
     "output_type": "stream",
     "text": [
      "Pop: Remove\n",
      "Append: Add On\n",
      "Loop: Recurse Through Something\n",
      "Title: Titlecase Something\n",
      "Argument: A Value Passed To A Function\n",
      "Comment: Code Not To Be Executed\n",
      "Int: Integer Number Type\n",
      "Boolean: True Or False Value\n",
      "List: Ordered Collection\n",
      "Elif: Else If Statement\n"
     ]
    }
   ],
   "source": [
    "for term, definition in terms.items():\n",
    "  print(term.title() + ': ' + definition.title())"
   ]
  },
  {
   "cell_type": "markdown",
   "id": "20e89863",
   "metadata": {},
   "source": [
    "## 6-5 "
   ]
  },
  {
   "cell_type": "code",
   "execution_count": 35,
   "id": "2593fa6a",
   "metadata": {},
   "outputs": [],
   "source": [
    "rivers = {\n",
    "    'amazon':'peru',\n",
    "    'mississippi' : 'montanta',\n",
    "    'ganges ': 'india'\n",
    "}"
   ]
  },
  {
   "cell_type": "code",
   "execution_count": 37,
   "id": "5d6871c1",
   "metadata": {},
   "outputs": [
    {
     "name": "stdout",
     "output_type": "stream",
     "text": [
      "The Amazon runs through Peru\n",
      "The Mississippi runs through Montanta\n",
      "The Ganges  runs through India\n"
     ]
    }
   ],
   "source": [
    "for river, country in rivers.items():\n",
    "  print(\"The \" + river.title() + ' runs through ' + country.title())"
   ]
  },
  {
   "cell_type": "code",
   "execution_count": 38,
   "id": "0090b6df",
   "metadata": {},
   "outputs": [
    {
     "name": "stdout",
     "output_type": "stream",
     "text": [
      "Amazon\n",
      "Mississippi\n",
      "Ganges \n"
     ]
    }
   ],
   "source": [
    "for river, country in rivers.items():\n",
    "  print(river.title())"
   ]
  },
  {
   "cell_type": "code",
   "execution_count": 39,
   "id": "1e83e72a",
   "metadata": {},
   "outputs": [
    {
     "name": "stdout",
     "output_type": "stream",
     "text": [
      "Peru\n",
      "Montanta\n",
      "India\n"
     ]
    }
   ],
   "source": [
    "for river, country in rivers.items():\n",
    "  print(country.title())"
   ]
  },
  {
   "cell_type": "markdown",
   "id": "eaf28ba0",
   "metadata": {},
   "source": [
    "## 6-7 "
   ]
  },
  {
   "cell_type": "code",
   "execution_count": 43,
   "id": "af8bb872",
   "metadata": {},
   "outputs": [
    {
     "name": "stdout",
     "output_type": "stream",
     "text": [
      "{'first name': 'doc', 'last name': 'mcstuffins', 'city': 'McStuffinsville'}\n",
      "{'first name': 'lonzo', 'last name': 'ball', 'city': 'anaheim'}\n",
      "{'first name': 'spongebob', 'last name': 'squarepants', 'city': 'bikini bottom'}\n"
     ]
    }
   ],
   "source": [
    "ball_info = {'first name':'lonzo','last name':'ball','city':'anaheim'}\n",
    "spongebob = {'first name':'spongebob','last name':'squarepants','city':'bikini bottom'}\n",
    "people = [doc_info, ball_info, spongebob]\n",
    "for person in people:\n",
    "    print(person)"
   ]
  },
  {
   "cell_type": "markdown",
   "id": "92f2ed8f",
   "metadata": {},
   "source": [
    "## 6-8 "
   ]
  },
  {
   "cell_type": "code",
   "execution_count": 47,
   "id": "7713f160",
   "metadata": {},
   "outputs": [],
   "source": [
    "mumu = {'name':'mumu','kind':'cat', 'owner':'nneoma'}\n",
    "sparkle = {'name':'sparkle','kind':'dog','owner':'london'}\n",
    "chad = {'name':'chad','kind':'snake', 'owner':'olive'}\n",
    "pets = [mumu, sparkle, chad]"
   ]
  },
  {
   "cell_type": "code",
   "execution_count": 50,
   "id": "50e5a87b",
   "metadata": {},
   "outputs": [
    {
     "name": "stdout",
     "output_type": "stream",
     "text": [
      "{'name': 'mumu', 'kind': 'cat', 'owner': 'nneoma'}\n",
      "{'name': 'sparkle', 'kind': 'dog', 'owner': 'london'}\n",
      "{'name': 'chad', 'kind': 'snake', 'owner': 'olive'}\n"
     ]
    }
   ],
   "source": [
    "for pet in pets:\n",
    "    print(pet)"
   ]
  },
  {
   "cell_type": "markdown",
   "id": "522a48a0",
   "metadata": {},
   "source": [
    "## 6-9 "
   ]
  },
  {
   "cell_type": "code",
   "execution_count": 65,
   "id": "fc28cc56",
   "metadata": {},
   "outputs": [],
   "source": [
    "favorite_places = {\n",
    "    'billy':['amsterdam'],\n",
    "    'bo': ['accra','madrid'],\n",
    "    'peep':['montreal','lagos']\n",
    "}"
   ]
  },
  {
   "cell_type": "code",
   "execution_count": 67,
   "id": "2d5e35a2",
   "metadata": {},
   "outputs": [
    {
     "name": "stdout",
     "output_type": "stream",
     "text": [
      "\n",
      "Billy's favorite cities are: \n",
      "Amsterdam\n",
      "\n",
      "Bo's favorite cities are: \n",
      "Accra\n",
      "Madrid\n",
      "\n",
      "Peep's favorite cities are: \n",
      "Montreal\n",
      "Lagos\n"
     ]
    }
   ],
   "source": [
    "for name, places in favorite_places.items():\n",
    "    print(\"\\n\" + name.title() + \"'s favorite cities are: \")\n",
    "    for place in places:\n",
    "        print(place.title())"
   ]
  },
  {
   "cell_type": "markdown",
   "id": "ceac45a6",
   "metadata": {},
   "source": [
    "## 6-11"
   ]
  },
  {
   "cell_type": "code",
   "execution_count": 69,
   "id": "d2ea3b2a",
   "metadata": {},
   "outputs": [],
   "source": [
    "cities = {\n",
    "    'amsterdam': {\n",
    "        'location': 'netherlands',\n",
    "        'population': '821,752',\n",
    "        'fun fact':'Amsterdam has the only floating flower market in the world',\n",
    "    },\n",
    "    'accra': {\n",
    "        'location':'ghana',\n",
    "        'population': '2,605,000',\n",
    "        'fun fact': 'The word Accra comes from the word Nkran meaning ants',\n",
    "    },\n",
    "    'madrid': {\n",
    "        'location':'spain',\n",
    "        'population': '3,223,000 ',\n",
    "        'fun fact': 'Madrid is one of the greenest cities in Europe',\n",
    "    },\n",
    "}"
   ]
  },
  {
   "cell_type": "code",
   "execution_count": 71,
   "id": "23589a2d",
   "metadata": {},
   "outputs": [
    {
     "name": "stdout",
     "output_type": "stream",
     "text": [
      "amsterdam is located in netherlands\n",
      "\tThe Population is821,752\n",
      "\tA fun fact is: Amsterdam has the only floating flower market in the world\n",
      "accra is located in ghana\n",
      "\tThe Population is2,605,000\n",
      "\tA fun fact is: The word Accra comes from the word Nkran meaning ants\n",
      "madrid is located in spain\n",
      "\tThe Population is3,223,000 \n",
      "\tA fun fact is: Madrid is one of the greenest cities in Europe\n"
     ]
    }
   ],
   "source": [
    "for city, city_info in cities.items():\n",
    "    print(city + \" is located in \" + city_info['location'])\n",
    "    fact = city_info['fun fact']\n",
    "    population = city_info['population']\n",
    "    \n",
    "    print(\"\\tThe Population is\" + population)\n",
    "    print(\"\\tA fun fact is: \" + fact)"
   ]
  },
  {
   "cell_type": "code",
   "execution_count": null,
   "id": "ac1cfe88",
   "metadata": {},
   "outputs": [],
   "source": []
  }
 ],
 "metadata": {
  "kernelspec": {
   "display_name": "Python 3 (ipykernel)",
   "language": "python",
   "name": "python3"
  },
  "language_info": {
   "codemirror_mode": {
    "name": "ipython",
    "version": 3
   },
   "file_extension": ".py",
   "mimetype": "text/x-python",
   "name": "python",
   "nbconvert_exporter": "python",
   "pygments_lexer": "ipython3",
   "version": "3.11.4"
  }
 },
 "nbformat": 4,
 "nbformat_minor": 5
}
